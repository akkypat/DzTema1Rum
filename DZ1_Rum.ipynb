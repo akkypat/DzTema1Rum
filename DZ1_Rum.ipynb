{
 "cells": [
  {
   "cell_type": "code",
   "execution_count": 66,
   "id": "a6ebe25f",
   "metadata": {
    "scrolled": true
   },
   "outputs": [],
   "source": [
    "# Задание 1\n",
    "import json\n",
    "purchases  = dict()\n",
    "with open(\"purchase_log.txt\", mode = \"r\", encoding = \"utf-8\") as file:\n",
    "    file.readline()\n",
    "    for line in file.readlines():\n",
    "        data = json.loads(line)\n",
    "        purchases[data['user_id']] = data['category']\n"
   ]
  }
 ],
 "metadata": {
  "kernelspec": {
   "display_name": "Python 3 (ipykernel)",
   "language": "python",
   "name": "python3"
  },
  "language_info": {
   "codemirror_mode": {
    "name": "ipython",
    "version": 3
   },
   "file_extension": ".py",
   "mimetype": "text/x-python",
   "name": "python",
   "nbconvert_exporter": "python",
   "pygments_lexer": "ipython3",
   "version": "3.11.4"
  }
 },
 "nbformat": 4,
 "nbformat_minor": 5
}
